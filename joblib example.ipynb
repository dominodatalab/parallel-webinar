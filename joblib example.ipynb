{
 "metadata": {
  "name": "",
  "signature": "sha256:fb2a36a505a284f5cde31d3a0795b0fa3dee2210c1823a3cfad3e5412a7b8d3d"
 },
 "nbformat": 3,
 "nbformat_minor": 0,
 "worksheets": [
  {
   "cells": [
    {
     "cell_type": "code",
     "collapsed": true,
     "input": [
      "from joblib import Parallel, delayed  \n",
      "import multiprocessing\n",
      "\n",
      "num_cores = multiprocessing.cpu_count()\n",
      "num_cores"
     ],
     "language": "python",
     "metadata": {},
     "outputs": [
      {
       "metadata": {},
       "output_type": "pyout",
       "prompt_number": 1,
       "text": [
        "16"
       ]
      }
     ],
     "prompt_number": 1
    },
    {
     "cell_type": "code",
     "collapsed": true,
     "input": [
      "def squareNumber(i):  \n",
      "    return i * i"
     ],
     "language": "python",
     "metadata": {},
     "outputs": [],
     "prompt_number": 2
    },
    {
     "cell_type": "code",
     "collapsed": false,
     "input": [
      "inputs = range(100)\n",
      "Parallel(n_jobs=num_cores)(delayed(squareNumber)(i) for i in inputs)  "
     ],
     "language": "python",
     "metadata": {},
     "outputs": [
      {
       "metadata": {},
       "output_type": "pyout",
       "prompt_number": 3,
       "text": [
        "[0,\n",
        " 1,\n",
        " 4,\n",
        " 9,\n",
        " 16,\n",
        " 25,\n",
        " 36,\n",
        " 49,\n",
        " 64,\n",
        " 81,\n",
        " 100,\n",
        " 121,\n",
        " 144,\n",
        " 169,\n",
        " 196,\n",
        " 225,\n",
        " 256,\n",
        " 289,\n",
        " 324,\n",
        " 361,\n",
        " 400,\n",
        " 441,\n",
        " 484,\n",
        " 529,\n",
        " 576,\n",
        " 625,\n",
        " 676,\n",
        " 729,\n",
        " 784,\n",
        " 841,\n",
        " 900,\n",
        " 961,\n",
        " 1024,\n",
        " 1089,\n",
        " 1156,\n",
        " 1225,\n",
        " 1296,\n",
        " 1369,\n",
        " 1444,\n",
        " 1521,\n",
        " 1600,\n",
        " 1681,\n",
        " 1764,\n",
        " 1849,\n",
        " 1936,\n",
        " 2025,\n",
        " 2116,\n",
        " 2209,\n",
        " 2304,\n",
        " 2401,\n",
        " 2500,\n",
        " 2601,\n",
        " 2704,\n",
        " 2809,\n",
        " 2916,\n",
        " 3025,\n",
        " 3136,\n",
        " 3249,\n",
        " 3364,\n",
        " 3481,\n",
        " 3600,\n",
        " 3721,\n",
        " 3844,\n",
        " 3969,\n",
        " 4096,\n",
        " 4225,\n",
        " 4356,\n",
        " 4489,\n",
        " 4624,\n",
        " 4761,\n",
        " 4900,\n",
        " 5041,\n",
        " 5184,\n",
        " 5329,\n",
        " 5476,\n",
        " 5625,\n",
        " 5776,\n",
        " 5929,\n",
        " 6084,\n",
        " 6241,\n",
        " 6400,\n",
        " 6561,\n",
        " 6724,\n",
        " 6889,\n",
        " 7056,\n",
        " 7225,\n",
        " 7396,\n",
        " 7569,\n",
        " 7744,\n",
        " 7921,\n",
        " 8100,\n",
        " 8281,\n",
        " 8464,\n",
        " 8649,\n",
        " 8836,\n",
        " 9025,\n",
        " 9216,\n",
        " 9409,\n",
        " 9604,\n",
        " 9801]"
       ]
      }
     ],
     "prompt_number": 3
    },
    {
     "cell_type": "code",
     "collapsed": false,
     "input": [
      "import numpy as np\n",
      "from matplotlib.path import Path\n",
      "from joblib import Parallel, delayed\n",
      "\n",
      "## Create pairs of points for line segments\n",
      "all_segments = zip(np.random.rand(5000,2),np.random.rand(5000,2))\n",
      "test_segments = zip(np.random.rand(200,2),np.random.rand(200,2))\n",
      "\n",
      "## Check if one line segment contains another. \n",
      "def check_paths(path):\n",
      "    for other_path in all_segments:\n",
      "        res='no cross'\n",
      "        chck = Path(other_path)\n",
      "        if chck.contains_path(path)==1:\n",
      "            res= 'cross'\n",
      "            break\n",
      "    return res\n"
     ],
     "language": "python",
     "metadata": {},
     "outputs": [],
     "prompt_number": 4
    },
    {
     "cell_type": "code",
     "collapsed": false,
     "input": [
      "%time res = Parallel(n_jobs=-1) (delayed(check_paths) (Path(test_segment)) for test_segment in test_segments)"
     ],
     "language": "python",
     "metadata": {},
     "outputs": [
      {
       "output_type": "stream",
       "stream": "stdout",
       "text": [
        "CPU times: user 130 ms, sys: 38.9 ms, total: 168 ms\n",
        "Wall time: 3.06 s\n"
       ]
      }
     ],
     "prompt_number": 6
    },
    {
     "cell_type": "code",
     "collapsed": false,
     "input": [
      "%time res = Parallel(n_jobs=1) (delayed(check_paths) (Path(test_segment)) for test_segment in test_segments)"
     ],
     "language": "python",
     "metadata": {},
     "outputs": [
      {
       "output_type": "stream",
       "stream": "stdout",
       "text": [
        "CPU times: user 22.6 s, sys: 0 ns, total: 22.6 s\n",
        "Wall time: 22.5 s\n"
       ]
      }
     ],
     "prompt_number": 7
    },
    {
     "cell_type": "code",
     "collapsed": false,
     "input": [
      "global A\n",
      "A = [0, 0, 0, 0]\n",
      "\n",
      "def modifyArray(i):  \n",
      "    global A\n",
      "    A[i] = i\n",
      "    \n",
      "A = [0, 0, 0, 0]\n",
      "for i in range(0, 4):\n",
      "    modifyArray(i)\n",
      "    \n",
      "A"
     ],
     "language": "python",
     "metadata": {},
     "outputs": [
      {
       "metadata": {},
       "output_type": "pyout",
       "prompt_number": 8,
       "text": [
        "[0, 1, 2, 3]"
       ]
      }
     ],
     "prompt_number": 8
    },
    {
     "cell_type": "code",
     "collapsed": false,
     "input": [
      "A = [0, 0, 0, 0]\n",
      "\n",
      "Parallel(n_jobs=-1) (delayed(modifyArray)(i) for i in range(0, 4))\n",
      "\n",
      "A"
     ],
     "language": "python",
     "metadata": {},
     "outputs": [
      {
       "metadata": {},
       "output_type": "pyout",
       "prompt_number": 10,
       "text": [
        "[0, 0, 0, 0]"
       ]
      }
     ],
     "prompt_number": 10
    },
    {
     "cell_type": "code",
     "collapsed": false,
     "input": [
      "def calcNewValue(i):\n",
      "    return i\n",
      "\n",
      "A = [0, 0, 0, 0]\n",
      "\n",
      "newA = Parallel(n_jobs=-1) (delayed(calcNewValue)(i) for i in range(0, 4))\n",
      "newA"
     ],
     "language": "python",
     "metadata": {},
     "outputs": [
      {
       "metadata": {},
       "output_type": "pyout",
       "prompt_number": 12,
       "text": [
        "[0, 1, 2, 3]"
       ]
      }
     ],
     "prompt_number": 12
    },
    {
     "cell_type": "code",
     "collapsed": false,
     "input": [],
     "language": "python",
     "metadata": {},
     "outputs": []
    }
   ],
   "metadata": {}
  }
 ]
}