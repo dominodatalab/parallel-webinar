{
 "metadata": {
  "name": "",
  "signature": "sha256:c176294244b93f35b428d0311b7a524271c93403479a19b2c4e162520b117e16"
 },
 "nbformat": 3,
 "nbformat_minor": 0,
 "worksheets": [
  {
   "cells": [
    {
     "cell_type": "code",
     "collapsed": false,
     "input": [
      "import multiprocessing\n",
      "multiprocessing.cpu_count()\n",
      " "
     ],
     "language": "python",
     "metadata": {},
     "outputs": [
      {
       "metadata": {},
       "output_type": "pyout",
       "prompt_number": 1,
       "text": [
        "16"
       ]
      }
     ],
     "prompt_number": 1
    },
    {
     "cell_type": "code",
     "collapsed": true,
     "input": [
      "from IPython.parallel import Client \n",
      "c = Client()\n",
      "view = c.direct_view()\n",
      "c.ids"
     ],
     "language": "python",
     "metadata": {},
     "outputs": [
      {
       "metadata": {},
       "output_type": "pyout",
       "prompt_number": 2,
       "text": [
        "[0, 1, 2, 3, 4, 5, 6, 7, 8, 9, 10, 11, 12, 13, 14, 15]"
       ]
      }
     ],
     "prompt_number": 2
    },
    {
     "cell_type": "code",
     "collapsed": true,
     "input": [
      "%px print(\"Hello from the cluster engines!\")"
     ],
     "language": "python",
     "metadata": {},
     "outputs": [
      {
       "output_type": "stream",
       "stream": "stdout",
       "text": [
        "[stdout:0] Hello from the cluster engines!\n",
        "[stdout:1] Hello from the cluster engines!\n",
        "[stdout:2] Hello from the cluster engines!\n",
        "[stdout:3] Hello from the cluster engines!\n",
        "[stdout:4] Hello from the cluster engines!\n",
        "[stdout:5] Hello from the cluster engines!\n",
        "[stdout:6] Hello from the cluster engines!\n",
        "[stdout:7] Hello from the cluster engines!\n",
        "[stdout:8] Hello from the cluster engines!\n",
        "[stdout:9] Hello from the cluster engines!\n",
        "[stdout:10] Hello from the cluster engines!\n",
        "[stdout:11] Hello from the cluster engines!\n",
        "[stdout:12] Hello from the cluster engines!\n",
        "[stdout:13] Hello from the cluster engines!\n",
        "[stdout:14] Hello from the cluster engines!\n",
        "[stdout:15] Hello from the cluster engines!\n"
       ]
      }
     ],
     "prompt_number": 3
    },
    {
     "cell_type": "code",
     "collapsed": true,
     "input": [
      "def where_am_i():\n",
      "    import os\n",
      "    import socket\n",
      "    \n",
      "    return \"In process with pid {0} on host: '{1}'\".format(\n",
      "        os.getpid(), socket.gethostname())\n",
      "\n",
      "where_am_i()"
     ],
     "language": "python",
     "metadata": {},
     "outputs": [
      {
       "metadata": {},
       "output_type": "pyout",
       "prompt_number": 4,
       "text": [
        "\"In process with pid 773 on host: '23518d59aeab'\""
       ]
      }
     ],
     "prompt_number": 4
    },
    {
     "cell_type": "code",
     "collapsed": true,
     "input": [
      "results = c.direct_view().apply(where_am_i)"
     ],
     "language": "python",
     "metadata": {},
     "outputs": [],
     "prompt_number": 5
    },
    {
     "cell_type": "code",
     "collapsed": true,
     "input": [
      "results.get()"
     ],
     "language": "python",
     "metadata": {},
     "outputs": [
      {
       "metadata": {},
       "output_type": "pyout",
       "prompt_number": 6,
       "text": [
        "[\"In process with pid 613 on host: '23518d59aeab'\",\n",
        " \"In process with pid 614 on host: '23518d59aeab'\",\n",
        " \"In process with pid 617 on host: '23518d59aeab'\",\n",
        " \"In process with pid 627 on host: '23518d59aeab'\",\n",
        " \"In process with pid 637 on host: '23518d59aeab'\",\n",
        " \"In process with pid 647 on host: '23518d59aeab'\",\n",
        " \"In process with pid 658 on host: '23518d59aeab'\",\n",
        " \"In process with pid 667 on host: '23518d59aeab'\",\n",
        " \"In process with pid 677 on host: '23518d59aeab'\",\n",
        " \"In process with pid 687 on host: '23518d59aeab'\",\n",
        " \"In process with pid 697 on host: '23518d59aeab'\",\n",
        " \"In process with pid 707 on host: '23518d59aeab'\",\n",
        " \"In process with pid 717 on host: '23518d59aeab'\",\n",
        " \"In process with pid 727 on host: '23518d59aeab'\",\n",
        " \"In process with pid 737 on host: '23518d59aeab'\",\n",
        " \"In process with pid 747 on host: '23518d59aeab'\"]"
       ]
      }
     ],
     "prompt_number": 6
    },
    {
     "cell_type": "code",
     "collapsed": false,
     "input": [
      "def square(a):\n",
      "    return a * a"
     ],
     "language": "python",
     "metadata": {},
     "outputs": [],
     "prompt_number": 7
    },
    {
     "cell_type": "code",
     "collapsed": false,
     "input": [
      "asyncResults = view.map(square, [5, 6, 7, 8])"
     ],
     "language": "python",
     "metadata": {},
     "outputs": [],
     "prompt_number": 8
    },
    {
     "cell_type": "code",
     "collapsed": false,
     "input": [
      "asyncResults.get()"
     ],
     "language": "python",
     "metadata": {},
     "outputs": [
      {
       "metadata": {},
       "output_type": "pyout",
       "prompt_number": 9,
       "text": [
        "[25, 36, 49, 64]"
       ]
      }
     ],
     "prompt_number": 9
    },
    {
     "cell_type": "code",
     "collapsed": true,
     "input": [
      "def mul(a, b):\n",
      "    return a * b"
     ],
     "language": "python",
     "metadata": {},
     "outputs": [],
     "prompt_number": 10
    },
    {
     "cell_type": "code",
     "collapsed": true,
     "input": [
      "asyncResults = view.map(mul, [5, 6, 7, 8], [8, 9, 10, 11])"
     ],
     "language": "python",
     "metadata": {},
     "outputs": [],
     "prompt_number": 11
    },
    {
     "cell_type": "code",
     "collapsed": true,
     "input": [
      "asyncResults.get()"
     ],
     "language": "python",
     "metadata": {},
     "outputs": [
      {
       "metadata": {},
       "output_type": "pyout",
       "prompt_number": 12,
       "text": [
        "[40, 54, 70, 88]"
       ]
      }
     ],
     "prompt_number": 12
    },
    {
     "cell_type": "code",
     "collapsed": true,
     "input": [],
     "language": "python",
     "metadata": {},
     "outputs": []
    },
    {
     "cell_type": "code",
     "collapsed": true,
     "input": [],
     "language": "python",
     "metadata": {},
     "outputs": []
    }
   ],
   "metadata": {}
  }
 ]
}